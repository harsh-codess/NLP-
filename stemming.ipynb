{
 "cells": [
  {
   "cell_type": "markdown",
   "metadata": {},
   "source": [
    "STEMMING \n",
    "stemming is the process of reducing a word to its word stem that affixes to suffixes and prefixes or to the roots of words known as a lemma. stemming is important in natural language understanding (NLU)\n",
    "(NLP)\n",
    "\n"
   ]
  },
  {
   "cell_type": "code",
   "execution_count": 1,
   "metadata": {},
   "outputs": [],
   "source": [
    "## if im solving an classification problem \n",
    "## such as comments on a product are positive or negative\n",
    "## reviews --> ML MODEL CLASSIFIES THEM AS POSITIVE OR NEGATIVE\n",
    "## REVIEWS --> Eating , eaten , eat --> eat is the stem word here. \n",
    "## so we can use stemming to reduce the words to their root form.\n",
    "words = ['play', 'playing', 'played', 'plays' , 'player', 'happier', 'happiest', 'happy', 'happily', 'organize', 'organizes', 'organizing', 'organization', 'organizational']\n",
    "\n",
    "\n",
    "\n"
   ]
  },
  {
   "cell_type": "code",
   "execution_count": 2,
   "metadata": {},
   "outputs": [
    {
     "name": "stdout",
     "output_type": "stream",
     "text": [
      "play\n",
      "play\n",
      "play\n",
      "play\n",
      "player\n",
      "happier\n",
      "happiest\n",
      "happi\n",
      "happili\n",
      "organ\n",
      "organ\n",
      "organ\n",
      "organ\n",
      "organiz\n"
     ]
    }
   ],
   "source": [
    "## porter stemmer \n",
    "from nltk.stem import PorterStemmer\n",
    "stemmer = PorterStemmer()\n",
    "for word in words:\n",
    "    print(stemmer.stem(word))\n"
   ]
  },
  {
   "cell_type": "markdown",
   "metadata": {},
   "source": [
    "## disadvantage being it sometimes changes the actual meaning of the word as seen above"
   ]
  },
  {
   "cell_type": "code",
   "execution_count": 3,
   "metadata": {},
   "outputs": [
    {
     "name": "stdout",
     "output_type": "stream",
     "text": [
      "play\n",
      "play\n",
      "play\n",
      "play\n",
      "play\n",
      "happi\n",
      "happi\n",
      "happy\n",
      "happily\n",
      "organize\n",
      "organize\n",
      "organiz\n",
      "organization\n",
      "organizational\n"
     ]
    }
   ],
   "source": [
    "## NLTK HAS REGXSTEMMER WHICH IS MORE POWERFUL THAN PORTERSTEMMER IT BASICALLY USES \n",
    "## SIMPLE REGULAR EXPRESSIONS TO REMOVE PREFIXES AND SUFFIXES THAT MATCH THE EXPRESSIONS\n",
    "from nltk.stem import RegexpStemmer\n",
    "reg_stemmer = RegexpStemmer( 'ing$|s$|ed$|er$|est$')\n",
    "for word in words: \n",
    "    print(reg_stemmer.stem(word)) \n"
   ]
  },
  {
   "cell_type": "markdown",
   "metadata": {},
   "source": [
    "snowball stemmer is a stemming technique gives out an better accuracy than porter stemmer \n"
   ]
  },
  {
   "cell_type": "code",
   "execution_count": 4,
   "metadata": {},
   "outputs": [
    {
     "name": "stdout",
     "output_type": "stream",
     "text": [
      "play\n",
      "play\n",
      "play\n",
      "play\n",
      "player\n",
      "happier\n",
      "happiest\n",
      "happi\n",
      "happili\n",
      "organ\n",
      "organ\n",
      "organ\n",
      "organ\n",
      "organiz\n"
     ]
    }
   ],
   "source": [
    "from nltk.stem import SnowballStemmer\n",
    "stemmer = SnowballStemmer(\"english\")\n",
    "for word in words: \n",
    "    print(stemmer.stem(word))\n",
    "    "
   ]
  },
  {
   "cell_type": "markdown",
   "metadata": {},
   "source": [
    "snowball stemmer vs porter stemmer \n"
   ]
  },
  {
   "cell_type": "code",
   "execution_count": null,
   "metadata": {},
   "outputs": [
    {
     "data": {
      "text/plain": [
       "('sport', 'fair')"
      ]
     },
     "execution_count": 5,
     "metadata": {},
     "output_type": "execute_result"
    },
    {
     "ename": "",
     "evalue": "",
     "output_type": "error",
     "traceback": [
      "\u001b[1;31mThe Kernel crashed while executing code in the current cell or a previous cell. \n",
      "\u001b[1;31mPlease review the code in the cell(s) to identify a possible cause of the failure. \n",
      "\u001b[1;31mClick <a href='https://aka.ms/vscodeJupyterKernelCrash'>here</a> for more info. \n",
      "\u001b[1;31mView Jupyter <a href='command:jupyter.viewOutput'>log</a> for further details."
     ]
    }
   ],
   "source": [
    "stemmer.stem(\"sportingly\"), stemmer.stem(\"fairly\")\n",
    "\n"
   ]
  }
 ],
 "metadata": {
  "kernelspec": {
   "display_name": "Python 3",
   "language": "python",
   "name": "python3"
  },
  "language_info": {
   "codemirror_mode": {
    "name": "ipython",
    "version": 3
   },
   "file_extension": ".py",
   "mimetype": "text/x-python",
   "name": "python",
   "nbconvert_exporter": "python",
   "pygments_lexer": "ipython3",
   "version": "3.12.0"
  }
 },
 "nbformat": 4,
 "nbformat_minor": 2
}
